{
 "cells": [
  {
   "cell_type": "markdown",
   "metadata": {
    "application/vnd.databricks.v1+cell": {
     "cellMetadata": {
      "byteLimit": 2048000,
      "rowLimit": 10000
     },
     "inputWidgets": {},
     "nuid": "0d986ff6-f45f-486b-a5d1-c61268b8153d",
     "showTitle": false,
     "tableResultSettingsMap": {},
     "title": ""
    }
   },
   "source": [
    "### Day - 1 : Practice Questions"
   ]
  },
  {
   "cell_type": "markdown",
   "metadata": {
    "application/vnd.databricks.v1+cell": {
     "cellMetadata": {
      "byteLimit": 2048000,
      "rowLimit": 10000
     },
     "inputWidgets": {},
     "nuid": "d940a110-909d-4955-a66c-7dbfa97b0351",
     "showTitle": false,
     "tableResultSettingsMap": {},
     "title": ""
    }
   },
   "source": [
    "### Q. 1 - Read Data : Load the dataset from CSV and JSON into a PySpark DataFrame."
   ]
  },
  {
   "cell_type": "markdown",
   "metadata": {
    "application/vnd.databricks.v1+cell": {
     "cellMetadata": {
      "byteLimit": 2048000,
      "rowLimit": 10000
     },
     "inputWidgets": {},
     "nuid": "67864446-77db-4e41-be94-4440368256be",
     "showTitle": false,
     "tableResultSettingsMap": {},
     "title": ""
    }
   },
   "source": [
    "### Q.2 - Select & Alias :\n",
    "\n",
    "### 1. Select only first_name, last_name, and salary.\n",
    "\n",
    "### 2. Create a column full_name using alias."
   ]
  },
  {
   "cell_type": "markdown",
   "metadata": {
    "application/vnd.databricks.v1+cell": {
     "cellMetadata": {
      "byteLimit": 2048000,
      "rowLimit": 10000
     },
     "inputWidgets": {},
     "nuid": "0529166f-8232-41ba-b289-63b3143d5ad5",
     "showTitle": false,
     "tableResultSettingsMap": {},
     "title": ""
    }
   },
   "source": [
    "### Q.3 - Filter :\n",
    "\n",
    "### 1. Find employees with salary > 70000.\n",
    "\n",
    "### 2. Find employees from the IT department who are younger than 35."
   ]
  },
  {
   "cell_type": "markdown",
   "metadata": {
    "application/vnd.databricks.v1+cell": {
     "cellMetadata": {
      "byteLimit": 2048000,
      "rowLimit": 10000
     },
     "inputWidgets": {},
     "nuid": "b7228872-2607-4421-aa66-61b29d36937e",
     "showTitle": false,
     "tableResultSettingsMap": {},
     "title": ""
    }
   },
   "source": [
    "### Q.4 - withColumnRenamed\n",
    "\n",
    "### Rename column first_name → fname and last_name → lname."
   ]
  },
  {
   "cell_type": "markdown",
   "metadata": {
    "application/vnd.databricks.v1+cell": {
     "cellMetadata": {
      "byteLimit": 2048000,
      "rowLimit": 10000
     },
     "inputWidgets": {},
     "nuid": "7ba9bb0a-6daf-42f2-90ba-d2916663b850",
     "showTitle": false,
     "tableResultSettingsMap": {},
     "title": ""
    }
   },
   "source": [
    "### Q.5 - withColumn :\n",
    "\n",
    "### Add a new column bonus = 10% of salary.\n",
    "\n",
    "### Add a column experience = number of years since joining_date."
   ]
  },
  {
   "cell_type": "markdown",
   "metadata": {
    "application/vnd.databricks.v1+cell": {
     "cellMetadata": {
      "byteLimit": 2048000,
      "rowLimit": 10000
     },
     "inputWidgets": {},
     "nuid": "958920d8-818b-415d-8cdf-b5920a0e52ce",
     "showTitle": false,
     "tableResultSettingsMap": {},
     "title": ""
    }
   },
   "source": [
    "### Q.6 - Type Casting\n",
    "\n",
    "### 1.Cast salary from double → integer.\n",
    "\n",
    "### 2.Cast joining_date from string → date."
   ]
  },
  {
   "cell_type": "markdown",
   "metadata": {
    "application/vnd.databricks.v1+cell": {
     "cellMetadata": {
      "byteLimit": 2048000,
      "rowLimit": 10000
     },
     "inputWidgets": {},
     "nuid": "6462fb8b-873a-4d14-8332-bfeb57e6f73a",
     "showTitle": false,
     "tableResultSettingsMap": {},
     "title": ""
    }
   },
   "source": [
    "### Q.7 - Sort :\n",
    "\n",
    "### 1. Sort employees by salary descending.\n",
    "\n",
    "### 2. Sort employees by department and then by age."
   ]
  },
  {
   "cell_type": "markdown",
   "metadata": {
    "application/vnd.databricks.v1+cell": {
     "cellMetadata": {
      "byteLimit": 2048000,
      "rowLimit": 10000
     },
     "inputWidgets": {},
     "nuid": "f9c6648d-4360-4aea-9e3d-4dfdc741bce0",
     "showTitle": false,
     "tableResultSettingsMap": {},
     "title": ""
    }
   },
   "source": [
    "### Q.8 - Limit :\n",
    "\n",
    "### Show top 5 highest-paid employees."
   ]
  },
  {
   "cell_type": "markdown",
   "metadata": {
    "application/vnd.databricks.v1+cell": {
     "cellMetadata": {
      "byteLimit": 2048000,
      "rowLimit": 10000
     },
     "inputWidgets": {},
     "nuid": "39e11e53-709d-4d26-b769-522e36cafefc",
     "showTitle": false,
     "tableResultSettingsMap": {},
     "title": ""
    }
   },
   "source": [
    "### Q.9 - Drop Duplicates :\n",
    "\n",
    "### Suppose duplicate rows appear, drop them based on emp_id."
   ]
  },
  {
   "cell_type": "markdown",
   "metadata": {
    "application/vnd.databricks.v1+cell": {
     "cellMetadata": {
      "byteLimit": 2048000,
      "rowLimit": 10000
     },
     "inputWidgets": {},
     "nuid": "1bbae870-2a21-45d4-915d-63d0b2a9a803",
     "showTitle": false,
     "tableResultSettingsMap": {},
     "title": ""
    }
   },
   "source": [
    "### Q. 11 - Select & Alias\n",
    "\n",
    "###Select emp_id, department, and salary but show them as EmployeeID, Dept, and AnnualSalary."
   ]
  },
  {
   "cell_type": "markdown",
   "metadata": {
    "application/vnd.databricks.v1+cell": {
     "cellMetadata": {
      "byteLimit": 2048000,
      "rowLimit": 10000
     },
     "inputWidgets": {},
     "nuid": "5581dc6a-8713-497f-b15b-a5a7a2405564",
     "showTitle": false,
     "tableResultSettingsMap": {},
     "title": ""
    }
   },
   "source": [
    "### Q. 12 - Filter :\n",
    "\n",
    "### 1. Find employees in Finance or Marketing departments with salary greater than 75000.\n",
    "\n",
    "### 2. Find employees whose city is not New York and age < 35."
   ]
  },
  {
   "cell_type": "markdown",
   "metadata": {
    "application/vnd.databricks.v1+cell": {
     "cellMetadata": {
      "byteLimit": 2048000,
      "rowLimit": 10000
     },
     "inputWidgets": {},
     "nuid": "cc88cd57-b1fa-47b0-8957-aa14277abdf3",
     "showTitle": false,
     "tableResultSettingsMap": {},
     "title": ""
    }
   },
   "source": [
    "### Q.13. withColumnRenamed :\n",
    "\n",
    "### Rename emp_id → employee_id and joining_date → join_date."
   ]
  },
  {
   "cell_type": "markdown",
   "metadata": {
    "application/vnd.databricks.v1+cell": {
     "cellMetadata": {
      "byteLimit": 2048000,
      "rowLimit": 10000
     },
     "inputWidgets": {},
     "nuid": "356ef3f8-3854-44d0-8594-911ef4cdce99",
     "showTitle": false,
     "tableResultSettingsMap": {},
     "title": ""
    }
   },
   "source": [
    "### 14. withColumn\n",
    "\n",
    "### Add a new column monthly_salary = salary / 12.\n",
    "\n",
    "### Add a column senior_flag which is \"Yes\" if age ≥ 40, else \"No\".\n",
    "\n",
    "### Add a column city_upper which contains the city name in uppercase."
   ]
  },
  {
   "cell_type": "markdown",
   "metadata": {
    "application/vnd.databricks.v1+cell": {
     "cellMetadata": {
      "byteLimit": 2048000,
      "rowLimit": 10000
     },
     "inputWidgets": {},
     "nuid": "56522563-0540-4b98-ae9f-109822f25c19",
     "showTitle": false,
     "tableResultSettingsMap": {},
     "title": ""
    }
   },
   "source": [
    "### Q.15. Type Casting\n",
    "\n",
    "### 1.Cast emp_id to string.\n",
    "\n",
    "### 2.Cast age to double."
   ]
  },
  {
   "cell_type": "markdown",
   "metadata": {
    "application/vnd.databricks.v1+cell": {
     "cellMetadata": {
      "byteLimit": 2048000,
      "rowLimit": 10000
     },
     "inputWidgets": {},
     "nuid": "16a0572b-d831-4374-913c-c4a65e857fc9",
     "showTitle": false,
     "tableResultSettingsMap": {},
     "title": ""
    }
   },
   "source": [
    "### 16. Sort -\n",
    "\n",
    "### 1. Sort employees by joining_date (earliest first).\n",
    "\n",
    "### 2. Sort employees by department, then descending salary."
   ]
  },
  {
   "cell_type": "markdown",
   "metadata": {
    "application/vnd.databricks.v1+cell": {
     "cellMetadata": {
      "byteLimit": 2048000,
      "rowLimit": 10000
     },
     "inputWidgets": {},
     "nuid": "6dbfc58e-dc08-4323-8b7a-d5b0d75e324f",
     "showTitle": false,
     "tableResultSettingsMap": {},
     "title": ""
    }
   },
   "source": [
    "### 17. Limit :\n",
    "\n",
    "### 1. Show top 3 youngest employees.\n",
    "\n",
    "### 2. Show top 2 employees from the HR department with the highest salary."
   ]
  },
  {
   "cell_type": "markdown",
   "metadata": {
    "application/vnd.databricks.v1+cell": {
     "cellMetadata": {
      "byteLimit": 2048000,
      "rowLimit": 10000
     },
     "inputWidgets": {},
     "nuid": "55257df1-435a-4a62-b2b4-e1ea62d310df",
     "showTitle": false,
     "tableResultSettingsMap": {},
     "title": ""
    }
   },
   "source": [
    "### 18. Drop Duplicates :\n",
    "\n",
    "### Suppose you join data from two sources and end up with duplicates — drop duplicates based only on first_name, last_name, and city."
   ]
  },
  {
   "cell_type": "markdown",
   "metadata": {
    "application/vnd.databricks.v1+cell": {
     "cellMetadata": {
      "byteLimit": 2048000,
      "rowLimit": 10000
     },
     "inputWidgets": {},
     "nuid": "2ef6d570-202b-4759-a152-ef16f9175bbf",
     "showTitle": false,
     "tableResultSettingsMap": {},
     "title": ""
    }
   },
   "source": [
    "### 19. Bonus Challenge (Combo) :\n",
    "\n",
    "### Create a column emp_info which concatenates:\n",
    "### \"John Smith - IT - New York\" (format: full_name - department - city).\n",
    "\n",
    "### From this result, sort employees by length of emp_info."
   ]
  },
  {
   "cell_type": "markdown",
   "metadata": {
    "application/vnd.databricks.v1+cell": {
     "cellMetadata": {
      "byteLimit": 2048000,
      "rowLimit": 10000
     },
     "inputWidgets": {},
     "nuid": "a4d02997-dcbd-4d2a-a72d-fb9265060b56",
     "showTitle": false,
     "tableResultSettingsMap": {},
     "title": ""
    }
   },
   "source": [
    "### 20. Select & Alias\n",
    "\n",
    "### 1. Select first_name, last_name, and city, but show them as FName, LName, and Location.\n",
    "\n",
    "### 2. Select department and count the number of employees in each department (alias as DeptCount)."
   ]
  },
  {
   "cell_type": "markdown",
   "metadata": {
    "application/vnd.databricks.v1+cell": {
     "cellMetadata": {
      "byteLimit": 2048000,
      "rowLimit": 10000
     },
     "inputWidgets": {},
     "nuid": "89da9528-3b09-4393-bc63-579eb7adb71e",
     "showTitle": false,
     "tableResultSettingsMap": {},
     "title": ""
    }
   },
   "source": [
    "### 21. Filter :\n",
    "\n",
    "### 1. Get all employees who joined before 2018.\n",
    "\n",
    "### 2. Find employees with age between 30 and 40 (inclusive).\n",
    "\n",
    "### 3. Find employees working in Seattle OR Boston."
   ]
  },
  {
   "cell_type": "markdown",
   "metadata": {
    "application/vnd.databricks.v1+cell": {
     "cellMetadata": {
      "byteLimit": 2048000,
      "rowLimit": 10000
     },
     "inputWidgets": {},
     "nuid": "94691495-74a4-475c-8a41-72b8f2d53fe9",
     "showTitle": false,
     "tableResultSettingsMap": {},
     "title": ""
    }
   },
   "source": [
    "### 22. withColumnRenamed :\n",
    "\n",
    "### 1. Rename salary → annual_salary.\n",
    "\n",
    "### 2. Rename city → work_location."
   ]
  },
  {
   "cell_type": "markdown",
   "metadata": {
    "application/vnd.databricks.v1+cell": {
     "cellMetadata": {
      "byteLimit": 2048000,
      "rowLimit": 10000
     },
     "inputWidgets": {},
     "nuid": "91bb3a39-7225-4761-bf7f-947f7adc9645",
     "showTitle": false,
     "tableResultSettingsMap": {},
     "title": ""
    }
   },
   "source": [
    "### 23. withColumn\n",
    "\n",
    "### 1. Add a column half_salary = salary / 2.\n",
    "\n",
    "### 2. Add a column name_length = length of full_name.\n",
    "\n",
    "### 3. Add a column is_high_earner → \"True\" if salary > 80000 else \"False\"."
   ]
  },
  {
   "cell_type": "markdown",
   "metadata": {
    "application/vnd.databricks.v1+cell": {
     "cellMetadata": {
      "byteLimit": 2048000,
      "rowLimit": 10000
     },
     "inputWidgets": {},
     "nuid": "c9989414-d593-4bbc-968c-ce24614e3735",
     "showTitle": false,
     "tableResultSettingsMap": {},
     "title": ""
    }
   },
   "source": [
    "### 24. Type Casting\n",
    "\n",
    "### 1. Convert age to string.\n",
    "\n",
    "### 2. Convert salary to integer."
   ]
  },
  {
   "cell_type": "markdown",
   "metadata": {
    "application/vnd.databricks.v1+cell": {
     "cellMetadata": {
      "byteLimit": 2048000,
      "rowLimit": 10000
     },
     "inputWidgets": {},
     "nuid": "33493fbf-1e40-4966-8f61-6d9ff448aad2",
     "showTitle": false,
     "tableResultSettingsMap": {},
     "title": ""
    }
   },
   "source": [
    "### 25. Sort :\n",
    "\n",
    "### 1. Sort employees by age descending.\n",
    "\n",
    "### 2. Sort employees first by city, then first_name."
   ]
  },
  {
   "cell_type": "markdown",
   "metadata": {
    "application/vnd.databricks.v1+cell": {
     "cellMetadata": {
      "byteLimit": 2048000,
      "rowLimit": 10000
     },
     "inputWidgets": {},
     "nuid": "9252140f-8f65-4afc-8298-c78ca9164ddf",
     "showTitle": false,
     "tableResultSettingsMap": {},
     "title": ""
    }
   },
   "source": [
    "### 27. Limit :\n",
    "\n",
    "### 1. Show top 4 employees with the earliest joining date.\n",
    "\n",
    "### 2. Show 3 employees with the smallest salaries."
   ]
  },
  {
   "cell_type": "markdown",
   "metadata": {
    "application/vnd.databricks.v1+cell": {
     "cellMetadata": {
      "byteLimit": 2048000,
      "rowLimit": 10000
     },
     "inputWidgets": {},
     "nuid": "bbf4147b-d00b-464e-8967-2611cf892fcc",
     "showTitle": false,
     "tableResultSettingsMap": {},
     "title": ""
    }
   },
   "source": [
    "### 27. Drop Duplicates :\n",
    "\n",
    "### 1.Drop duplicate rows considering only department (keep one row per department).\n",
    "\n",
    "### 2.Drop duplicates considering city and department together."
   ]
  },
  {
   "cell_type": "markdown",
   "metadata": {
    "application/vnd.databricks.v1+cell": {
     "cellMetadata": {
      "byteLimit": 2048000,
      "rowLimit": 10000
     },
     "inputWidgets": {},
     "nuid": "c1e1cd24-4a01-4624-8cd7-cdc1d6aa3397",
     "showTitle": false,
     "tableResultSettingsMap": {},
     "title": ""
    }
   },
   "source": [
    "### 28. Bonus Combo :\n",
    "\n",
    "### 1. Create a new column emp_summary in the format:\n",
    "### \"John Smith (IT) - Age: 29 - Salary: 75000.5\".\n",
    "\n",
    "### 2. Sort employees by salary and display the top 5 summaries."
   ]
  }
 ],
 "metadata": {
  "application/vnd.databricks.v1+notebook": {
   "computePreferences": null,
   "dashboards": [],
   "environmentMetadata": {
    "base_environment": "",
    "environment_version": "1"
   },
   "inputWidgetPreferences": null,
   "language": "python",
   "notebookMetadata": {
    "pythonIndentUnit": 4
   },
   "notebookName": "Day - 1 : Practice Questions",
   "widgets": {}
  },
  "language_info": {
   "name": "python"
  }
 },
 "nbformat": 4,
 "nbformat_minor": 0
}
